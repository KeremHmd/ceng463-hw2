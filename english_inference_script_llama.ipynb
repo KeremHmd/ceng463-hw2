{
 "cells": [
  {
   "cell_type": "code",
   "execution_count": null,
   "metadata": {
    "_cell_guid": "b1076dfc-b9ad-4769-8c92-a6c4dae69d19",
    "_uuid": "8f2839f25d086af736a60e9eeb907d3b93b6e0e5",
    "execution": {
     "iopub.execute_input": "2025-01-04T10:46:52.470891Z",
     "iopub.status.busy": "2025-01-04T10:46:52.470698Z",
     "iopub.status.idle": "2025-01-04T10:47:07.697294Z",
     "shell.execute_reply": "2025-01-04T10:47:07.696367Z",
     "shell.execute_reply.started": "2025-01-04T10:46:52.470872Z"
    },
    "trusted": true
   },
   "outputs": [],
   "source": [
    "import pandas as pd\n",
    "from transformers import pipeline\n",
    "from huggingface_hub import notebook_login\n",
    "\n",
    "notebook_login()"
   ]
  },
  {
   "cell_type": "markdown",
   "source": [
    "Import loading and login process into hugging face for model authorization."
   ],
   "metadata": {
    "collapsed": false
   }
  },
  {
   "cell_type": "code",
   "execution_count": null,
   "metadata": {
    "execution": {
     "iopub.execute_input": "2025-01-04T11:32:00.480841Z",
     "iopub.status.busy": "2025-01-04T11:32:00.480501Z",
     "iopub.status.idle": "2025-01-04T11:36:32.139081Z",
     "shell.execute_reply": "2025-01-04T11:36:32.138350Z",
     "shell.execute_reply.started": "2025-01-04T11:32:00.480814Z"
    },
    "trusted": true
   },
   "outputs": [],
   "source": [
    "from sklearn.metrics import precision_recall_fscore_support, accuracy_score\n",
    "def format_prompt(text, task):\n",
    "    if task == \"orientation\":\n",
    "        return f\"Classify the following speech as belonging to a left-wing (label 0) or right-wing (label 1) politician: {text}\"\n",
    "    elif task == \"power\":\n",
    "        return f\"Determine whether the following speech is from a governing party (label 0) or an opposition party (label 1): {text}\"\n",
    "    else:\n",
    "        raise ValueError(\"Invalid task. Choose 'orientation' or 'power'.\")\n",
    "\n",
    "model_name = \"meta-llama/Llama-3.2-1B\"\n",
    "classifier = pipeline(\"text-classification\", model=model_name, tokenizer=model_name, device=0)\n",
    "\n",
    "test_data_path = \"/kaggle/input/power-dataset/power-tr-train.tsv\"\n",
    "task = \"power\"\n",
    "\n",
    "print(\"Loading test data...\")\n",
    "test_data = pd.read_csv(test_data_path, sep='\\t')\n",
    "test_data = test_data.dropna(subset=[\"text_en\", \"label\"])\n",
    "\n",
    "test_data = test_data.head(500)\n",
    "\n",
    "print(\"Running zero-shot inference...\")\n",
    "predictions = []\n",
    "for index, row in test_data.iterrows():\n",
    "    prompt = format_prompt(row['text_en'], task)\n",
    "    result = classifier(prompt)\n",
    "    predicted_label = result[0]['label']\n",
    "    predictions.append(predicted_label)\n",
    "\n",
    "true_labels = test_data['label'].tolist()\n",
    "predicted_labels = [int(label[-1]) for label in predictions]\n",
    "\n",
    "accuracy = accuracy_score(true_labels, predicted_labels)\n",
    "precision, recall, f1, _ = precision_recall_fscore_support(\n",
    "    true_labels, predicted_labels, average='binary', zero_division=0\n",
    ")\n",
    "\n",
    "print(f\"Zero-shot inference results for {task} task:\")\n",
    "print(f\"Accuracy: {accuracy:.2%}\")\n",
    "print(f\"Precision: {precision:.2%}\")\n",
    "print(f\"Recall: {recall:.2%}\")\n",
    "print(f\"F1 Score: {f1:.2%}\")"
   ]
  },
  {
   "cell_type": "markdown",
   "source": [
    "### Zero-Shot Inference Flow - English\n",
    "- Inference flow with English prompts.\n",
    "- File path and task type can be changed to variate between power and orientation tasks."
   ],
   "metadata": {
    "collapsed": false
   }
  }
 ],
 "metadata": {
  "kaggle": {
   "accelerator": "nvidiaTeslaT4",
   "dataSources": [
    {
     "datasetId": 6422988,
     "sourceId": 10369647,
     "sourceType": "datasetVersion"
    },
    {
     "datasetId": 6423189,
     "sourceId": 10369902,
     "sourceType": "datasetVersion"
    }
   ],
   "dockerImageVersionId": 30823,
   "isGpuEnabled": true,
   "isInternetEnabled": true,
   "language": "python",
   "sourceType": "notebook"
  },
  "kernelspec": {
   "display_name": "Python 3",
   "language": "python",
   "name": "python3"
  },
  "language_info": {
   "codemirror_mode": {
    "name": "ipython",
    "version": 3
   },
   "file_extension": ".py",
   "mimetype": "text/x-python",
   "name": "python",
   "nbconvert_exporter": "python",
   "pygments_lexer": "ipython3",
   "version": "3.10.12"
  }
 },
 "nbformat": 4,
 "nbformat_minor": 4
}
