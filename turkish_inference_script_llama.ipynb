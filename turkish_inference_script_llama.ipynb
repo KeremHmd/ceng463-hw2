{
 "metadata": {
  "kernelspec": {
   "language": "python",
   "display_name": "Python 3",
   "name": "python3"
  },
  "language_info": {
   "name": "python",
   "version": "3.10.12",
   "mimetype": "text/x-python",
   "codemirror_mode": {
    "name": "ipython",
    "version": 3
   },
   "pygments_lexer": "ipython3",
   "nbconvert_exporter": "python",
   "file_extension": ".py"
  },
  "kaggle": {
   "accelerator": "nvidiaTeslaT4",
   "dataSources": [
    {
     "sourceId": 10369647,
     "sourceType": "datasetVersion",
     "datasetId": 6422988
    },
    {
     "sourceId": 10369902,
     "sourceType": "datasetVersion",
     "datasetId": 6423189
    }
   ],
   "dockerImageVersionId": 30823,
   "isInternetEnabled": true,
   "language": "python",
   "sourceType": "notebook",
   "isGpuEnabled": true
  }
 },
 "nbformat_minor": 4,
 "nbformat": 4,
 "cells": [
  {
   "cell_type": "code",
   "source": [
    "import pandas as pd\n",
    "from transformers import pipeline\n",
    "from huggingface_hub import notebook_login\n",
    "\n",
    "notebook_login()"
   ],
   "metadata": {
    "_uuid": "8f2839f25d086af736a60e9eeb907d3b93b6e0e5",
    "_cell_guid": "b1076dfc-b9ad-4769-8c92-a6c4dae69d19",
    "trusted": true,
    "execution": {
     "iopub.status.busy": "2025-01-04T10:46:52.470698Z",
     "iopub.execute_input": "2025-01-04T10:46:52.470891Z",
     "iopub.status.idle": "2025-01-04T10:47:07.697294Z",
     "shell.execute_reply.started": "2025-01-04T10:46:52.470872Z",
     "shell.execute_reply": "2025-01-04T10:47:07.696367Z"
    }
   },
   "outputs": [],
   "execution_count": null
  },
  {
   "cell_type": "markdown",
   "source": [
    "Import loading and login process into hugging face for model authorization."
   ],
   "metadata": {
    "collapsed": false
   }
  },
  {
   "cell_type": "code",
   "source": [
    "from sklearn.metrics import precision_recall_fscore_support, accuracy_score\n",
    "def format_prompt(text, task):\n",
    "    if task == \"orientation\":\n",
    "        return f\"Bu konuşmanın sol görüşlü bir siyasetçiye (class 0) mi yoksa sağ görüşlü bir siyasetçiye (class 1) mi ait olduğunu sınıflandır: {text}\"\n",
    "    elif task == \"power\":\n",
    "        return f\"Bu konuşmanın iktidar partisinden (class 0) mi yoksa muhalefet partisinden (class 1) mi yapıldığını belirle: {text}\"\n",
    "    else:\n",
    "        raise ValueError(\"Invalid task. Choose 'orientation' or 'power'.\")\n",
    "\n",
    "model_name = \"meta-llama/Llama-3.2-1B\"\n",
    "classifier = pipeline(\"text-classification\", model=model_name, tokenizer=model_name, device=0)\n",
    "\n",
    "test_data_path = \"/kaggle/input/power-dataset/power-tr-train.tsv\"\n",
    "task = \"power\"\n",
    "\n",
    "print(\"Loading test data...\")\n",
    "test_data = pd.read_csv(test_data_path, sep='\\t')\n",
    "test_data = test_data.dropna(subset=[\"text\", \"label\"])\n",
    "\n",
    "test_data = test_data.head(500)\n",
    "\n",
    "print(\"Running zero-shot inference...\")\n",
    "predictions = []\n",
    "for index, row in test_data.iterrows():\n",
    "    prompt = format_prompt(row['text'], task)\n",
    "    result = classifier(prompt)\n",
    "    predicted_label = result[0]['label']\n",
    "    predictions.append(predicted_label)\n",
    "\n",
    "true_labels = test_data['label'].tolist()\n",
    "predicted_labels = [int(label[-1]) for label in predictions]\n",
    "\n",
    "accuracy = accuracy_score(true_labels, predicted_labels)\n",
    "precision, recall, f1, _ = precision_recall_fscore_support(\n",
    "    true_labels, predicted_labels, average='binary', zero_division=0\n",
    ")\n",
    "\n",
    "print(f\"Zero-shot inference results for {task} task (Turkish text):\")\n",
    "print(f\"Accuracy: {accuracy:.2%}\")\n",
    "print(f\"Precision: {precision:.2%}\")\n",
    "print(f\"Recall: {recall:.2%}\")\n",
    "print(f\"F1 Score: {f1:.2%}\")\n"
   ],
   "metadata": {
    "trusted": true,
    "execution": {
     "iopub.status.busy": "2025-01-04T11:49:44.683910Z",
     "iopub.execute_input": "2025-01-04T11:49:44.684240Z",
     "iopub.status.idle": "2025-01-04T11:55:28.831750Z",
     "shell.execute_reply.started": "2025-01-04T11:49:44.684215Z",
     "shell.execute_reply": "2025-01-04T11:55:28.830942Z"
    }
   },
   "outputs": [],
   "execution_count": null
  },
  {
   "cell_type": "markdown",
   "source": [
    "### Zero-Shot Inference Flow - Turkish\n",
    "- Inference flow with Turkish prompts.\n",
    "- File path and task type can be changed to variate between power and orientation tasks."
   ],
   "metadata": {
    "collapsed": false
   }
  }
 ]
}
